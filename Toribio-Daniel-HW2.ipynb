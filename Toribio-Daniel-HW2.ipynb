{
 "cells": [
  {
   "cell_type": "markdown",
   "id": "0b037cef",
   "metadata": {},
   "source": [
    "# Homework 2 \n",
    "## Daniel Toribio (100454242)"
   ]
  },
  {
   "cell_type": "markdown",
   "id": "4227a891",
   "metadata": {},
   "source": [
    "## Part 1.- Network optimization: Vehicle routing problem"
   ]
  },
  {
   "cell_type": "markdown",
   "id": "e7afc3f6",
   "metadata": {},
   "source": [
    "### Introduction\n",
    "\n",
    "We are in charge of minimizing the total distance traveled by the vans used for delivery in a company.\n",
    "\n",
    "This is a common problem in logistics and transportation. There are many factors to consider, such as the number of vans, their capacity, the locations of the customers, their demand, and the routes that the vans take."
   ]
  },
  {
   "cell_type": "markdown",
   "id": "92971500",
   "metadata": {},
   "source": [
    "### Problem description\n",
    "\n",
    "The company has 3 vans and 15 customers with different demands, in thousands of units. The demand and the location of each client is given in the following table:\n",
    "\n",
    "| Client | C1 | C2 | C3 | C4 | C5 | C6 | C7 | C8 | C9 | C10 | C11 | C12 | C13 | C14 | C15 |\n",
    "|--------|----|----|----|----|----|----|----|----|----|-----|-----|-----|-----|-----|-----|\n",
    "| Demand | 8 | 3 | 7 | 2 | 5 | 5 | 9 | 4 | 6 | 2 | 8 | 1 | 7 | 10 | 10 |\n",
    "| Location | (-5, 8) | (3, -2)| (0, -6) | (-9, 6) | (2, -7) | (10, -4) | (-1, 9) | (4, -8) | (-6, 5) | (0, -3) | (8, 2) | (-6, 0) | (6, -1)| (5, 8)| (-5, -9)\n",
    "\n",
    "The capacity of each van is 30 thousands of units, and the vans start the delivery in the warehouse and must finish after the delivery in the warehouse that is located in the coordinates (0,0). \n",
    "\n"
   ]
  },
  {
   "cell_type": "markdown",
   "id": "2711661e",
   "metadata": {},
   "source": [
    "### Model formulation"
   ]
  },
  {
   "cell_type": "markdown",
   "id": "87dd4eb0",
   "metadata": {},
   "source": [
    "#### Sets and parameters\n",
    "\n",
    "First of all we have to define the data of the problem. \n",
    "\n",
    "To define the paths we have to refer to each client with an identifier, and to the warehouse we will be refered with a W. This index can be interpreted as the nodes in the graph.\n",
    "\n",
    "\\begin{equation}\n",
    "\\text{I}=\\{W,C1,C2,\\dots,C15\\}: \\text{Identifier for each client and the warehouse.}\n",
    "\\end{equation}\n",
    "\n",
    "We have to distinguish between the three vans:\n",
    "\n",
    "\\begin{equation}\n",
    "\\text{K}=\\{1,2,3\\}: \\text{Identifier for each van.}\n",
    "\\end{equation}\n",
    "\n",
    "We have a demand for each client that must be satisfied: \n",
    "\n",
    "\\begin{equation}\n",
    "\\text{demand}_{i} \\in \\mathbb{N} : \\text{Demand of client i.} \\quad \\forall \\text{i} \\in \\text{I}\\setminus{\\text{W}}\n",
    "\\end{equation}\n",
    "\n",
    "As we are given the locations we can compute a distance matrix to obtain the euclidean distance between each node with all the other nodes. This distance will be the cost that the company wants to minimize:\n",
    "\n",
    "\\begin{equation}\n",
    "\\text{distance}_{i,j} \\in \\mathbb{R} : \\text{Distance between node i and node j.} \\quad \\forall \\text{i,j} \\in \\text{I}\n",
    "\\end{equation}\n",
    "\n",
    "#### Decision variables\n",
    "\n",
    "In this problem we can make decisions in what is going to be the path that each van is going to follow. For this we have to define a binary variable which represents if a path is chosen or not.\n",
    "\n",
    "\\begin{equation}\n",
    "x_{k,i,j} \\in \\text{\\{0,1\\}} : \\text{If the van k will go from i to j} \\quad \\forall \\text{i,j} \\in \\text{I} \\quad \\forall \\text{k} \\in \\text{K}\n",
    "\\end{equation}\n"
   ]
  },
  {
   "cell_type": "markdown",
   "id": "6f2c1dd1",
   "metadata": {},
   "source": [
    "#### Objective Function\n",
    "\n",
    "In this problem we want to minimize the distance traveled in total by the delivery vans. The objective function can be defined as:\n",
    "\n",
    "\\begin{equation}\n",
    "\\text{Min} : \\sum_{i \\in \\text{I}}\\sum_{j \\in \\text{I}}\\sum_{k \\in \\text{K}}\n",
    "(\\text{distance}_{i,j} \\times x_{k,i,j} ) : \\text{With i ≠ j} \n",
    "\\end{equation}"
   ]
  },
  {
   "cell_type": "markdown",
   "id": "09839e0e",
   "metadata": {},
   "source": [
    "#### Constraints\n",
    "\n",
    "We have different constraints:\n",
    "\n",
    "- We have to ensure that if a van travels to a client, then its next travel has to be with that client has begining. This can be seen as the number of times van enters a node is equal to the number of times it leaves that node:\n",
    "\n",
    "\\begin{equation}\n",
    "\\sum_{i \\in \\text{I}}x_{k,i,j} = \\sum_{i\\in \\text{I}}x_{k,j,i}  \\quad \\text{With i ≠ j} \\quad \\forall j \\in \\text{I} \\quad \\forall k \\in \\text{K}\n",
    "\\end{equation}\n",
    "\n",
    "- We have to ensure that every client is only visited once, to avoid that two different vans deliver to the same client. It is important not considering the warehouse in this constraint because the warehouse is entered and exited 3 times, one per van:\n",
    "\n",
    "\\begin{equation}\n",
    "\\sum_{k \\in \\text{K}}\\sum_{i \\in \\text{I}}x_{k,i,j} = 1 \\quad \\text{With i ≠ j} \\quad \\forall j \\in \\text{I} \\setminus \\{\\text{W}\\} \n",
    "\\end{equation}\n",
    "\n",
    "- The vans have to start their paths in the warehouse. Note that as in the first constraint we have said that each node has to be entered and exited the same number of times, we do not have to define a constraint to ensure that the finals nodes of each path is the warehouse:\n",
    "\n",
    "\\begin{equation}\n",
    "\\sum_{j \\in \\text{I} \\setminus \\{\\text{W}\\} }x_{k,W,j} = 1 \\quad \\text{With i ≠ j} \\quad \\forall k \\in \\text{K}\n",
    "\\end{equation}\n",
    "\n",
    "- The capacity of each van has to be greater or equal to the sum of the demands in the path that it is going to follow, because if not it will not be able to satisfy the demands of all the clients:\n",
    "\n",
    "\\begin{equation}\n",
    "\\sum_{i \\in \\text{I}}\\sum_{j \\in \\text{I} \\setminus \\{\\text{W}\\}}\\text{demand}_{j} \\times x_{k,i,j} \\leq 30 \\quad \\text{With i ≠ j} \\quad \\forall k \\in \\text{K}\n",
    "\\end{equation}\n",
    "\n",
    "\n",
    "- We need to add MTZ (Miller-Tucker-Zemlin) set of constraints to avoid subtours, which means that we have to add a new variable called u. We have to make some changes to this constraints as this problem is not the same as the TSP. If vehicle k drives from node i to node j, x is going to be 1 and the first constraint can be rewritten to u_j >= u_i + demand_j. This ensure that the value of u_j is at least demand_i more than u_i. If vehicle k does not drive from node i to node j, the constraint is still valid if we take into account the second constraint. \n",
    "\n",
    "\\begin{equation}\n",
    "\\text{u}_{i} \\in \\mathbb{N} : \\text{Extra variables to remove subtours.} \\quad \\forall i \\in \\text{I}\n",
    "\\end{equation}\n",
    "\n",
    "\\begin{equation}\n",
    "\\text{u}_{j} - \\text{u}_{i} \\geq \\text{demand}_{j} - 30 \\times (1 - x_{k,i,j}) \\quad \\forall k \\in \\text{K}  \\quad \\forall i,j \\in \\text{I} \\setminus \\{\\text{W}\\} \\quad \\text{With i ≠ j} \n",
    "\\end{equation}\n",
    "\n",
    "\\begin{equation}\n",
    "\\text{demand}_{i} \\leq \\text{u}_{i} \\leq 30 \\quad \\forall i,j \\in \\text{I} \\setminus \\{\\text{W}\\} \n",
    "\\end{equation}\n",
    "\n"
   ]
  },
  {
   "cell_type": "markdown",
   "id": "0d6aa453",
   "metadata": {},
   "source": [
    "#### Defining the data\n",
    "\n",
    "Before creating the model I will define the data of the problem."
   ]
  },
  {
   "cell_type": "code",
   "execution_count": 24,
   "id": "552bd073",
   "metadata": {},
   "outputs": [],
   "source": [
    "import numpy as np\n",
    "import pandas as pd\n",
    "from pyomo.environ import *\n",
    "import itertools"
   ]
  },
  {
   "cell_type": "code",
   "execution_count": 25,
   "id": "0da58562",
   "metadata": {},
   "outputs": [],
   "source": [
    "Clients = [\"W\", \"C1\", \"C2\", \"C3\", \"C4\", \"C5\", \"C6\", \"C7\", \"C8\", \"C9\", \"C10\", \"C11\", \"C12\", \"C13\", \"C14\", \"C15\"]\n",
    "Vans = [1,2,3]\n",
    "\n",
    "Demand = { \"W\" : 0,\n",
    "           \"C1\": 8 ,\n",
    "           \"C2\": 3 ,\n",
    "           \"C3\": 7 ,\n",
    "           \"C4\": 2 ,\n",
    "           \"C5\": 5 ,\n",
    "           \"C6\": 5 ,\n",
    "           \"C7\": 9 ,\n",
    "           \"C8\": 4 ,\n",
    "           \"C9\": 6 ,\n",
    "           \"C10\": 2 ,\n",
    "           \"C11\": 8 ,\n",
    "           \"C12\": 1 ,\n",
    "           \"C13\": 7 ,\n",
    "           \"C14\": 10 ,\n",
    "           \"C15\": 10}\n",
    "\n",
    "Coordinates = [(0,0), (-5, 8), (3, -2), (0, -6), (-9, 6), (2, -7), (10, -4), (-1, 9), (4, -8),\n",
    "      (-6, 5),  (0, -3),  (8, 2),  (-6, 0),  (6, -1),  (5, 8), (-5, -9)]\n",
    "\n",
    "def euclidean_distance(coord1, coord2):\n",
    "    return np.sqrt((coord1[0] - coord2[0]) ** 2 + (coord1[1] - coord2[1]) ** 2)\n",
    "\n",
    "def calculate_distances(coordinates):\n",
    "    num_coordinates = len(coordinates)\n",
    "    distances = [[0] * num_coordinates for _ in range(num_coordinates)]\n",
    "\n",
    "    for i in range(num_coordinates):\n",
    "        for j in range(i + 1, num_coordinates):\n",
    "            distance = euclidean_distance(coordinates[i], coordinates[j])\n",
    "            distances[i][j] = distances[j][i] = distance\n",
    "\n",
    "    return distances\n",
    "\n",
    "distances = np.array(calculate_distances(Coordinates))\n",
    "\n",
    "Distances = {((Clients[i]),(Clients[j])): distances[i][j] for i in range(len(distances)) for j in range(len(distances[0]))}\n"
   ]
  },
  {
   "cell_type": "code",
   "execution_count": 26,
   "id": "1886d493",
   "metadata": {},
   "outputs": [
    {
     "data": {
      "image/png": "[encoded data removed]",
      "text/plain": [
       "<Figure size 640x480 with 2 Axes>"
      ]
     },
     "metadata": {},
     "output_type": "display_data"
    }
   ],
   "source": [
    "import networkx as nx\n",
    "import matplotlib.pyplot as plt\n",
    "\n",
    "# Given data\n",
    "edges_and_weights =Distances\n",
    "\n",
    "nodes = sorted(set(node for edge in edges_and_weights.keys() for node in edge))\n",
    "num_nodes = len(nodes)\n",
    "\n",
    "# Create an empty matrix\n",
    "matrix = np.zeros((num_nodes, num_nodes))\n",
    "\n",
    "# Fill the matrix with edge weights\n",
    "for i, node1 in enumerate(nodes):\n",
    "    for j, node2 in enumerate(nodes):\n",
    "        matrix[i, j] = edges_and_weights.get((node1, node2), 0.0)\n",
    "\n",
    "# Create a heatmap\n",
    "plt.imshow(matrix, cmap='viridis', interpolation='nearest')\n",
    "\n",
    "# Customize the plot\n",
    "plt.colorbar(label='Weight')\n",
    "plt.xticks(np.arange(num_nodes), nodes, rotation = 45)\n",
    "plt.yticks(np.arange(num_nodes), nodes)\n",
    "plt.title('Edge Weights Matrix')\n",
    "plt.xlabel('To Node')\n",
    "plt.ylabel('From Node')\n",
    "\n",
    "# Display the plot\n",
    "plt.show()"
   ]
  },
  {
   "cell_type": "markdown",
   "id": "139870ca",
   "metadata": {},
   "source": [
    "Now we can see the distance from every node to all the others. From this graph we can see that the clients that are close to the warehouse are C2 and C10, so probably in the solution this two clients could be the ones visited first by the vans. We can also see that traveling from C6 to C4 has the highest distance so probably this path is not going to be considered in the solution. "
   ]
  },
  {
   "cell_type": "code",
   "execution_count": 27,
   "id": "a32e90bc",
   "metadata": {},
   "outputs": [
    {
     "data": {
      "image/png": "[encoded data removed]",
      "text/plain": [
       "<Figure size 500x500 with 1 Axes>"
      ]
     },
     "metadata": {},
     "output_type": "display_data"
    }
   ],
   "source": [
    "\n",
    "#The warehouse of the company and the clients locations are shown in this picture:\n",
    "\n",
    "# Crear un grafo dirigido\n",
    "G = nx.DiGraph()\n",
    "\n",
    "# Agregar nodos\n",
    "G.add_nodes_from([\"C1\", \"C2\", \"C3\", \"C4\", \"C5\", \"C6\", \"C7\", \"C8\", \"C9\", \"C10\", \"C11\", \"C12\", \"C13\", \"C14\", \"C15\", \"W\"])\n",
    "node_colors = [\"skyblue\", \"skyblue\", \"skyblue\", \"skyblue\", \"skyblue\", \"skyblue\", \n",
    "               \"skyblue\", \"skyblue\", \"skyblue\", \"skyblue\", \"skyblue\", \"skyblue\",\n",
    "               \"skyblue\", \"skyblue\", \"skyblue\", \"orange\"]\n",
    "\n",
    "\n",
    "# Dibujar el grafo\n",
    "pos ={\"C1\": (-5, 8), \"C2\": (3, -2), \"C3\": (0, -6), \"C4\": (-9, 6), \"C5\": (2, -7), \"C6\": (10, -4), \"C7\": (-1, 9), \"C8\": (4, -8),\n",
    "      \"C9\": (-6, 5), \"C10\": (0, -3), \"C11\": (8, 2), \"C12\": (-6, 0), \"C13\": (6, -1), \"C14\": (5, 8), \"C15\": (-5, -9), \"W\": (0,0)}\n",
    "\n",
    "# Tamaño personalizado del gráfico\n",
    "fig, ax = plt.subplots(figsize=(5, 5))\n",
    "\n",
    "nx.draw(G, pos, with_labels=True, node_size=300, node_color=node_colors, font_size=8, font_color=\"black\", font_weight=\"bold\", arrowsize=10, ax=ax)\n",
    "\n",
    "# Mostrar el gráfico\n",
    "plt.show()\n"
   ]
  },
  {
   "cell_type": "markdown",
   "id": "406f1fc8",
   "metadata": {},
   "source": [
    "Here we can visualize our problem, where W is the warehouse where the vans are starting and ending their delivery paths, and the blue nodes are the clients."
   ]
  },
  {
   "cell_type": "markdown",
   "id": "01b8b120",
   "metadata": {},
   "source": [
    "### Model implementation\n",
    "\n",
    "Once the model is formulated we just need to implement it in pyomo. First, we have to create the model, set the indices and then add to the model the decision variables, the objective function and the constraints."
   ]
  },
  {
   "cell_type": "code",
   "execution_count": 28,
   "id": "e023eecc",
   "metadata": {},
   "outputs": [
    {
     "name": "stderr",
     "output_type": "stream",
     "text": [
      "C:\\Users\\dtori\\AppData\\Local\\Temp\\ipykernel_9660\\52892037.py:17: DeprecationWarning: Calling np.sum(generator) is deprecated, and in the future will give a different result. Use np.sum(np.fromiter(generator)) or the python sum builtin instead.\n",
      "  return np.sum( model.Distance[i,j] * model.x[k,i,j] for i in model.I for j in model.I if i!=j for k in model.K )\n",
      "C:\\Users\\dtori\\AppData\\Local\\Temp\\ipykernel_9660\\52892037.py:22: DeprecationWarning: Calling np.sum(generator) is deprecated, and in the future will give a different result. Use np.sum(np.fromiter(generator)) or the python sum builtin instead.\n",
      "  return np.sum(model.x[k,i,j] for i in model.I) == np.sum(model.x[k,j,i] for i in model.I if i!=j)\n",
      "C:\\Users\\dtori\\AppData\\Local\\Temp\\ipykernel_9660\\52892037.py:27: DeprecationWarning: Calling np.sum(generator) is deprecated, and in the future will give a different result. Use np.sum(np.fromiter(generator)) or the python sum builtin instead.\n",
      "  return np.sum(model.x[k,i,j] for i in model.I if i!=j for k in model.K) == 1\n",
      "C:\\Users\\dtori\\AppData\\Local\\Temp\\ipykernel_9660\\52892037.py:32: DeprecationWarning: Calling np.sum(generator) is deprecated, and in the future will give a different result. Use np.sum(np.fromiter(generator)) or the python sum builtin instead.\n",
      "  return np.sum(model.x[k,\"W\",j] for j in model.C ) == 1\n",
      "C:\\Users\\dtori\\AppData\\Local\\Temp\\ipykernel_9660\\52892037.py:36: DeprecationWarning: Calling np.sum(generator) is deprecated, and in the future will give a different result. Use np.sum(np.fromiter(generator)) or the python sum builtin instead.\n",
      "  return np.sum(model.Demand[i] * model.x[k,i,j] for i in model.I for j in model.C if i!=j) <= 30\n"
     ]
    }
   ],
   "source": [
    "onlyClients = [\"C1\", \"C2\", \"C3\", \"C4\", \"C5\", \"C6\", \"C7\", \"C8\", \"C9\", \"C10\", \"C11\", \"C12\", \"C13\", \"C14\", \"C15\"]\n",
    "\n",
    "model = ConcreteModel(\"Network model\")\n",
    "model.I = Set(initialize = Clients, doc = \"Clients\")\n",
    "model.C = Set(initialize = onlyClients, doc = \"onlyClients\")\n",
    "model.K = Set(initialize = Vans, doc = 'Vans')\n",
    "\n",
    "model.Demand = Param(model.I, initialize = Demand, doc=\"Demand\")\n",
    "model.Distance = Param(model.I, model.I, initialize = Distances, doc = \"Distances\")\n",
    "\n",
    "model.x = Var(model.K, model.I, model.I, doc='Paths of the vans', within=Binary)\n",
    "model.u = Var(model.I, doc='Remove subtours', within=NonNegativeIntegers)\n",
    "\n",
    "\n",
    "def objective_rule(model):\n",
    "    \n",
    "    return np.sum( model.Distance[i,j] * model.x[k,i,j] for i in model.I for j in model.I if i!=j for k in model.K )\n",
    "\n",
    "model.obj = Objective(rule=objective_rule, sense=minimize, doc='Total distance')\n",
    "\n",
    "def C1(model,k,j):\n",
    "    return np.sum(model.x[k,i,j] for i in model.I) == np.sum(model.x[k,j,i] for i in model.I if i!=j)\n",
    "\n",
    "model.C1 = Constraint(model.K, model.I, rule=C1, doc='C1')\n",
    "\n",
    "def C2(model,k,j):\n",
    "    return np.sum(model.x[k,i,j] for i in model.I if i!=j for k in model.K) == 1\n",
    "\n",
    "model.C2 = Constraint(model.K, model.C , rule=C2, doc='C2')\n",
    "\n",
    "def C3(model,k):\n",
    "    return np.sum(model.x[k,\"W\",j] for j in model.C ) == 1\n",
    "model.C3 = Constraint(model.K, rule=C3, doc='C3')\n",
    "\n",
    "def C4(model,k):\n",
    "    return np.sum(model.Demand[i] * model.x[k,i,j] for i in model.I for j in model.C if i!=j) <= 30\n",
    "model.C4 = Constraint(model.K, rule=C4, doc='C4')\n",
    "\n",
    "def C5(model,k, i, j):\n",
    "    if (i!=j):\n",
    "        return (model.u[j]-model.u[i]) >= (model.Demand[j] - 30*(1-model.x[k,i,j]))\n",
    "    else:\n",
    "        return Constraint.Skip\n",
    "model.C5 = Constraint(model.K, model.C, model.C, rule=C5, doc='C5')\n",
    "\n",
    "def C6(model, i):\n",
    "    return (model.Demand[i]) <= (model.u[i])\n",
    "    \n",
    "model.C6 = Constraint(model.C, rule=C6, doc='C6')\n",
    "\n",
    "def C7(model, i):\n",
    "    return  (model.u[i]) <= 30\n",
    "    \n",
    "model.C7 = Constraint(model.C, rule=C7, doc='C7')\n"
   ]
  },
  {
   "cell_type": "markdown",
   "id": "9bf58cfc",
   "metadata": {},
   "source": [
    "Now we solve the problem using Gurobi solver."
   ]
  },
  {
   "cell_type": "code",
   "execution_count": 29,
   "id": "a7cd6bde",
   "metadata": {},
   "outputs": [],
   "source": [
    "Solver = SolverFactory('gurobi')\n",
    "solution = Solver.solve(model)"
   ]
  },
  {
   "cell_type": "markdown",
   "id": "a7b15dff",
   "metadata": {},
   "source": [
    "### Analysis of the results"
   ]
  },
  {
   "cell_type": "code",
   "execution_count": 30,
   "id": "a5edf8e8",
   "metadata": {},
   "outputs": [
    {
     "data": {
      "text/plain": [
       "99.35764302320744"
      ]
     },
     "execution_count": 30,
     "metadata": {},
     "output_type": "execute_result"
    }
   ],
   "source": [
    "model.obj()"
   ]
  },
  {
   "cell_type": "markdown",
   "id": "5c8afeab",
   "metadata": {},
   "source": [
    "This is the minimum distance covered by all the vans after visiting all the clients."
   ]
  },
  {
   "cell_type": "code",
   "execution_count": 31,
   "id": "228d2c1e",
   "metadata": {},
   "outputs": [
    {
     "name": "stdout",
     "output_type": "stream",
     "text": [
      "       W   C1   C2   C3   C4   C5   C6   C7   C8   C9  C10  C11  C12  C13  \\\n",
      "W    0.0  0.0  0.0  0.0  0.0  0.0  0.0  0.0  0.0  0.0  0.0  0.0  0.0  1.0   \n",
      "C1   0.0  0.0  0.0  0.0  0.0  0.0  0.0  0.0  0.0  0.0  0.0  0.0  0.0  0.0   \n",
      "C2   0.0  0.0  0.0  0.0  0.0  0.0  0.0  0.0  0.0  0.0  0.0  0.0  0.0  0.0   \n",
      "C3   0.0  0.0  0.0  0.0  0.0  0.0  0.0  0.0  0.0  0.0  0.0  0.0  0.0  0.0   \n",
      "C4   0.0  0.0  0.0  0.0  0.0  0.0  0.0  0.0  0.0  0.0  0.0  0.0  0.0  0.0   \n",
      "C5   0.0  0.0  0.0  0.0  0.0  0.0  0.0  0.0  0.0  0.0  0.0  0.0  0.0  0.0   \n",
      "C6   0.0  0.0  0.0  0.0  0.0  0.0  0.0  0.0  0.0  0.0  0.0  1.0  0.0  0.0   \n",
      "C7   0.0  0.0  0.0  0.0  0.0  0.0  0.0  0.0  0.0  0.0  0.0  0.0  0.0  0.0   \n",
      "C8   0.0  0.0  0.0  0.0  0.0  0.0  0.0  0.0  0.0  0.0  0.0  0.0  0.0  0.0   \n",
      "C9   0.0  0.0  0.0  0.0  0.0  0.0  0.0  0.0  0.0  0.0  0.0  0.0  0.0  0.0   \n",
      "C10  0.0  0.0  0.0  0.0  0.0  0.0  0.0  0.0  0.0  0.0  0.0  0.0  0.0  0.0   \n",
      "C11  0.0  0.0  0.0  0.0  0.0  0.0  0.0  0.0  0.0  0.0  0.0  0.0  0.0  0.0   \n",
      "C12  0.0  0.0  0.0  0.0  0.0  0.0  0.0  0.0  0.0  0.0  0.0  0.0  0.0  0.0   \n",
      "C13  0.0  0.0  0.0  0.0  0.0  0.0  1.0  0.0  0.0  0.0  0.0  0.0  0.0  0.0   \n",
      "C14  1.0  0.0  0.0  0.0  0.0  0.0  0.0  0.0  0.0  0.0  0.0  0.0  0.0  0.0   \n",
      "C15  0.0  0.0  0.0  0.0  0.0  0.0  0.0  0.0  0.0  0.0  0.0  0.0  0.0  0.0   \n",
      "\n",
      "     C14  C15  \n",
      "W    0.0  0.0  \n",
      "C1   0.0  0.0  \n",
      "C2   0.0  0.0  \n",
      "C3   0.0  0.0  \n",
      "C4   0.0  0.0  \n",
      "C5   0.0  0.0  \n",
      "C6   0.0  0.0  \n",
      "C7   0.0  0.0  \n",
      "C8   0.0  0.0  \n",
      "C9   0.0  0.0  \n",
      "C10  0.0  0.0  \n",
      "C11  1.0  0.0  \n",
      "C12  0.0  0.0  \n",
      "C13  0.0  0.0  \n",
      "C14  0.0  0.0  \n",
      "C15  0.0  0.0  \n"
     ]
    }
   ],
   "source": [
    "path1 = pd.DataFrame()\n",
    "\n",
    "for i in model.I:\n",
    "    for j in model.I:\n",
    "        if isinstance(model.x[1,i,j](), float):\n",
    "            path1.loc[i,j] = model.x[1,i,j]()\n",
    "        else:\n",
    "            path1.loc[i,j] = 0\n",
    "            \n",
    "path2 = pd.DataFrame()\n",
    "\n",
    "for i in model.I:\n",
    "    for j in model.I:\n",
    "        if isinstance(model.x[2,i,j](), float):\n",
    "            path2.loc[i,j] = model.x[2,i,j]()\n",
    "        else:\n",
    "            path2.loc[i,j] = 0\n",
    "            \n",
    "path3 = pd.DataFrame()\n",
    "\n",
    "for i in model.I:\n",
    "    for j in model.I:\n",
    "        if isinstance(model.x[3,i,j](), float):\n",
    "            path3.loc[i,j] = model.x[3,i,j]()\n",
    "        else:\n",
    "            path3.loc[i,j] = 0\n",
    "\n",
    "print(path1)\n"
   ]
  },
  {
   "cell_type": "markdown",
   "id": "e3f8901f",
   "metadata": {},
   "source": [
    "This is the solution for the first van path. As it is not easy to interpret the result in this matrix, I will print the paths in the graph."
   ]
  },
  {
   "cell_type": "code",
   "execution_count": 32,
   "id": "1096a2dd",
   "metadata": {},
   "outputs": [
    {
     "data": {
      "image/png": "[encoded data removed]",
      "text/plain": [
       "<Figure size 500x500 with 1 Axes>"
      ]
     },
     "metadata": {},
     "output_type": "display_data"
    }
   ],
   "source": [
    "def encontrar_unos(df): #This function is used to obtain the paths (row and column) where there is a 1\n",
    "    resultados = []\n",
    "\n",
    "    for index, row in df.iterrows():\n",
    "        for col in df.columns:\n",
    "            if row[col] == 1:\n",
    "                resultados.append((index, col))\n",
    "\n",
    "    return resultados\n",
    "\n",
    "resultados1 = encontrar_unos(path1)\n",
    "resultados2 = encontrar_unos(path2)\n",
    "resultados3 = encontrar_unos(path3)\n",
    "# Crear un grafo dirigido\n",
    "G = nx.DiGraph()\n",
    "\n",
    "# Agregar nodos\n",
    "G.add_nodes_from([\"C1\", \"C2\", \"C3\", \"C4\", \"C5\", \"C6\", \"C7\", \"C8\", \"C9\", \"C10\", \"C11\", \"C12\", \"C13\", \"C14\", \"C15\", \"W\"])\n",
    "node_colors = [\"skyblue\", \"skyblue\", \"skyblue\", \"skyblue\", \"skyblue\", \"skyblue\", \n",
    "               \"skyblue\", \"skyblue\", \"skyblue\", \"skyblue\", \"skyblue\", \"skyblue\",\n",
    "               \"skyblue\", \"skyblue\", \"skyblue\", \"orange\"]\n",
    "\n",
    "G.add_edges_from(resultados1)\n",
    "G.add_edges_from(resultados2)\n",
    "G.add_edges_from(resultados3)\n",
    "\n",
    "# Dibujar el grafo\n",
    "pos ={\"C1\": (-5, 8), \"C2\": (3, -2), \"C3\": (0, -6), \"C4\": (-9, 6), \"C5\": (2, -7), \"C6\": (10, -4), \"C7\": (-1, 9), \"C8\": (4, -8),\n",
    "      \"C9\": (-6, 5), \"C10\": (0, -3), \"C11\": (8, 2), \"C12\": (-6, 0), \"C13\": (6, -1), \"C14\": (5, 8), \"C15\": (-5, -9), \"W\": (0,0)}\n",
    "\n",
    "# Tamaño personalizado del gráfico\n",
    "fig, ax = plt.subplots(figsize=(5, 5))\n",
    "\n",
    "\n",
    "nx.draw(G, pos, with_labels=True, node_size=300, node_color=node_colors, font_size=8, font_color=\"black\", font_weight=\"bold\", arrowsize=10, ax=ax)\n",
    "\n",
    "\n",
    "\n",
    "# Dibujar bordes\n",
    "nx.draw_networkx_edges(G, pos, edgelist=resultados1, edge_color=\"red\", width=2.0, ax=ax)\n",
    "nx.draw_networkx_edges(G, pos, edgelist=resultados2, edge_color=\"blue\", width=2.0, ax=ax)\n",
    "nx.draw_networkx_edges(G, pos, edgelist=resultados3, edge_color=\"black\", width=2.0, ax=ax)\n",
    "\n",
    "# Mostrar el gráfico\n",
    "plt.show()"
   ]
  },
  {
   "cell_type": "markdown",
   "id": "defa7702",
   "metadata": {},
   "source": [
    "Now we can see the solution in a graph. Here we can see that each van starts and ends in the warehouse. We can also see that all clients have been visited exactly one time. We can see that the previous beliefs were true, as two of the vans visited first C2 and C10."
   ]
  },
  {
   "cell_type": "code",
   "execution_count": 33,
   "id": "d2b610e7",
   "metadata": {},
   "outputs": [
    {
     "name": "stdout",
     "output_type": "stream",
     "text": [
      "Sum of first path: 28\n",
      "Sum of second path: 29\n",
      "Sum of third path: 30\n"
     ]
    }
   ],
   "source": [
    "keys_to_sum = [\"C10\", \"C12\", \"C9\", \"C4\", \"C1\", \"C7\"]\n",
    "\n",
    "# Calculate the sum of values for the specified keys\n",
    "sum_values = sum(Demand[key] for key in keys_to_sum)\n",
    "\n",
    "print(\"Sum of first path:\", sum_values)\n",
    "\n",
    "keys_to_sum = [\"C2\", \"C8\", \"C5\", \"C3\", \"C15\"]\n",
    "\n",
    "# Calculate the sum of values for the specified keys\n",
    "sum_values = sum(Demand[key] for key in keys_to_sum)\n",
    "\n",
    "print(\"Sum of second path:\", sum_values)\n",
    "\n",
    "keys_to_sum = [\"C13\", \"C6\", \"C11\", \"C14\"]\n",
    "\n",
    "# Calculate the sum of values for the specified keys\n",
    "sum_values = sum(Demand[key] for key in keys_to_sum)\n",
    "\n",
    "print(\"Sum of third path:\", sum_values)"
   ]
  },
  {
   "cell_type": "markdown",
   "id": "7c835b7d",
   "metadata": {},
   "source": [
    "We can also see that in all paths the capacity of the van, 30, is enought to satisfy the demand of the clients, but we have to take care because the capacities of the vans are close to the total demand of each path, so if we add a new client, his demand should be very low, at maximum 2, or we have to increase the capacity of the vans."
   ]
  },
  {
   "cell_type": "markdown",
   "id": "12571c83",
   "metadata": {},
   "source": [
    "## Part 2.- Non-linear optimization: Army strategy video game"
   ]
  },
  {
   "cell_type": "markdown",
   "id": "17b127ae",
   "metadata": {},
   "source": [
    "### Problem description\n",
    "\n",
    "An Army strategy video game typically involves players taking on the role of a commander or general, with the objective of leading an army to victory when attacking other players. The most important part of these games is the creation of the army, where they must choose between different troops that have a different training cost:\n",
    "\n",
    "- Barbarian\n",
    "\n",
    "- Archer\n",
    "\n",
    "- Giant\n",
    "\n",
    "- Goblin\n",
    "\n",
    "- Wizard\n",
    "\n",
    "- Dragon\n",
    "\n",
    "- Ballon\n",
    "\n",
    "- Hog rider\n",
    "\n",
    "At least one troop of each type has to be used in the army configuration.\n",
    "\n",
    "The level of each troop is also important as the higher the level the better the troop is but it will need more training:\n",
    "\n",
    "| <i></i> | Barbarian | Archer | Giant | Goblin | Wizard | Dragon | Ballon | Hog rider |\n",
    "| --- | --- | --- | --- | --- | --- | --- | --- | --- |\n",
    "| Level 1 | 1 | 1 | 5 | 1 | 4 | 10 | 5 | 12 |\n",
    "| Level 2 | 3 | 3 | 8 | 2 | 7 | 15 | 9 | 16 |\n",
    "| Level 3 | 5 | 5 | 16 | 3 | 12 | 22 | 18 | 24 |\n",
    "| Level 4 | 8 | 8 | 22 | 4 | 19 | 30 | 24 | 36 |\n",
    "| Level 5 | 12 | 12 | 32 | 5 | 25 | 40 | 32 | 46 |\n",
    "\n",
    "\n",
    "There is a maximum of troops we can have in our army, which is of 100 size units, and each troop has a different size:\n",
    "\n",
    "| <i></i> | Barbarian | Archer | Giant | Goblin | Wizard | Dragon | Ballon | Hog rider |\n",
    "| --- | --- | --- | --- | --- | --- | --- | --- | --- |\n",
    "| Size | 3 | 2 | 15 | 1 | 3 | 20 | 10 | 6 |\n",
    "\n",
    "\n",
    "Each troop is more effective depending on the defensive building that is being attacked. The defensive buildings are:\n",
    "\n",
    "- Cannon\n",
    "- Archer tower\n",
    "- Inferno tower\n",
    "- Wizard tower\n",
    "- Mortar\n",
    "\n",
    "Each player has 12 defensive buildings in total, but they must fulfill that at least there are 3 cannons, 3 archer towers, 2 inferno tower, 1 wizard tower and 1 mortar.\n",
    "\n",
    "After a lot of hours spent playing this video game we have obtained an approximation of how effective (a value between 1 and 10 where 1 means very ineffective and 10 means very effective) a troop is against a defensive building, and this effectiveness is multiplied by the level of the troop squared:\n",
    "\n",
    "\n",
    "| <i></i> | Barbarian | Archer | Giant | Goblin | Wizard | Dragon | Ballon | Hog rider |\n",
    "| --- | --- | --- | --- | --- | --- | --- | --- | --- |\n",
    "| Cannon | 4 | 2 | 9 | 1 | 1 | 10 | 10 | 8 |\n",
    "| Archer tower | 5 | 3 | 7 | 1 | 4 | 8 | 3 | 8 |\n",
    "| Inferno tower | 4 | 3 | 2 | 1 | 3 | 2 | 4 | 9 |\n",
    "| Wizard tower  | 2 | 1 | 10 | 1 | 2 | 7 | 6 | 9 |\n",
    "| Mortar | 3 | 1 | 8 | 1 | 1 | 10 | 10 | 10 |\n",
    "\n",
    "When attacking we can select the player that will be attacked, this means that we can select the defensive configuration we want for our army.\n",
    "\n",
    "After each attack, the game rewards are obtained by substracting the costs of each troop times the number of troops of that type squared (because the game penalized a lot if the player uses a huge army) to the effectiveness of the attack. Our goal is to maximize the game rewards."
   ]
  },
  {
   "cell_type": "markdown",
   "id": "34786fa7",
   "metadata": {},
   "source": [
    "### Model formulation"
   ]
  },
  {
   "cell_type": "markdown",
   "id": "4771345b",
   "metadata": {},
   "source": [
    "#### Sets and parameters\n",
    "\n",
    "First of all we have to define the data of the problem. \n",
    "\n",
    "In this case we will need an identifier for each type of troop, for the level of each troop and for the defensive buildings.\n",
    "\n",
    "\\begin{equation}\n",
    "\\text{I}=\\{\\text{Barbarians},\\text{ Archers}, \\text{ Giants}, \\text{ Goblins}, \\text{ Wizard}, \\text{ Dragon}, \\text{ Ballon}, \\text{ Hog rider} \\}: \\text{Identifier for each type of troop.}\n",
    "\\end{equation}\n",
    "\n",
    "\\begin{equation}\n",
    "\\text{J}=\\{\\text{Cannon},\\text{ Archer tower}, \\text{ Inferno tower}, \\text{ Wizard tower}, \\text{ Mortar}\\}: \\text{Identifier for the defensive building.}\n",
    "\\end{equation}\n",
    "\n",
    "\\begin{equation}\n",
    "\\text{K}=\\{1,2,3,4,5\\}: \\text{Identifier for the level of a troop.}\n",
    "\\end{equation}\n",
    "\n",
    "We have the training cost depending on the troop and in its level:\n",
    "\n",
    "\\begin{equation}\n",
    "\\text{cost}_{i,k} \\in \\mathbb{N} : \\text{Training cost of troop of type i with level k.} \\quad \\forall \\text{i} \\in \\text{I} \\quad \\forall \\text{k} \\in \\text{K}\n",
    "\\end{equation}\n",
    "\n",
    "We are also given the effectiveness of each troop depending on the defensive buildings:\n",
    "\n",
    "\\begin{equation}\n",
    "\\text{eff}_{i,j} \\in \\mathbb{N} : \\text{Effectiveness of troop i attacking building j.} \\quad \\forall \\text{i} \\in \\text{I} \\quad \\forall \\text{j} \\in \\text{J} \n",
    "\\end{equation}\n",
    "\n",
    "We have to define another parameter for the size of each troop, as we have to consider it for the army size limitation:\n",
    "\n",
    "\\begin{equation}\n",
    "\\text{size}_{i} \\in \\mathbb{N} : \\text{Size of troop i.} \\quad \\forall \\text{i} \\in \\text{I} \n",
    "\\end{equation}\n",
    "\n",
    "#### Decision variables\n",
    "\n",
    "In this problem we can make decisions in the number of troops of type i and level k that we are going to train for our army:\n",
    "\n",
    "\\begin{equation}\n",
    "x_{i,k} \\in \\mathbb{N} : \\text{Number of troops of type i of level k.} \\quad \\forall \\text{i} \\in \\text{I} \\quad \\forall \\text{k} \\in \\text{K} \n",
    "\\end{equation}\n",
    "\n",
    "As in this game we can select the player we want to attack, we are able to see his defensive configuration before attacking so we are also making decisions in the amount of defensive buildings of type j.\n",
    "\n",
    "\\begin{equation}\n",
    "y_{j} \\in \\mathbb{N} : \\text{Number of defensive buildings of type j.} \\quad \\forall \\text{j} \\in \\text{J} \n",
    "\\end{equation}\n"
   ]
  },
  {
   "cell_type": "markdown",
   "id": "6a41dd3e",
   "metadata": {},
   "source": [
    "#### Objective Function\n",
    "\n",
    "In this problem we want to maximize the game rewards, which means that we have to maximize the effectiveness of the attack (the number of troops multiplied by their effectiveness and by the level) minus the cost of each troop times the amount of troops squared (to avoid big armies):\n",
    "\n",
    "\\begin{equation}\n",
    "\\text{Max} : \\sum_{i \\in \\text{I}}\\sum_{j \\in \\text{J}}\\sum_{k \\in \\text{K}}\n",
    "(x_{i,k} \\times \\text{eff}_{i,j} \\times k^2 \\times y_{j} - \\text{cost}_{i,k} \\times (x_{i,k})^2) \n",
    "\\end{equation}"
   ]
  },
  {
   "cell_type": "markdown",
   "id": "55fd4e3b",
   "metadata": {},
   "source": [
    "#### Constraints\n",
    "\n",
    "We have different constraints:\n",
    "\n",
    "- We have to take at least one troop of each type for the army:\n",
    "\n",
    "\\begin{equation}\n",
    "\\sum_{k \\in \\text{K}}x_{i,k} \\geq 1  \\quad \\forall{i} \\in \\text{I}\n",
    "\\end{equation}\n",
    "\n",
    "- We have to consider the maximum size of the army:\n",
    "\n",
    "\\begin{equation}\n",
    "\\sum_{i \\in \\text{I}} \\sum_{k \\in \\text{K}}\\text{size}_{i}\\times x_{i,k} \\leq 100\n",
    "\\end{equation}\n",
    "\n",
    "- We have to consider the total number of defensive buildings:\n",
    "\n",
    "\\begin{equation}\n",
    "\\sum_{j \\in \\text{J}} y_{j} = 12 \n",
    "\\end{equation}\n",
    "\n",
    "- There is also a minimum number of buildings of each type that have to be in the defensive configuration:\n",
    "\n",
    "\\begin{equation}\n",
    "y_{\\text{Cannon}} \\geq 3\n",
    "\\end{equation}\n",
    "\n",
    "\\begin{equation}\n",
    "y_{\\text{Archer tower}} \\geq 3\n",
    "\\end{equation}\n",
    "\n",
    "\\begin{equation}\n",
    "y_{\\text{Inferno tower}} \\geq 2\n",
    "\\end{equation}\n",
    "\n",
    "\\begin{equation}\n",
    "y_{\\text{Wizard tower}} \\geq 1\n",
    "\\end{equation}\n",
    "\n",
    "\\begin{equation}\n",
    "y_{\\text{Mortar}} \\geq 1\n",
    "\\end{equation}\n"
   ]
  },
  {
   "cell_type": "markdown",
   "id": "ed07ef4b",
   "metadata": {},
   "source": [
    "#### Defining the data\n",
    "\n",
    "Before creating the model I will define the data of the problem."
   ]
  },
  {
   "cell_type": "code",
   "execution_count": 34,
   "id": "245afacc",
   "metadata": {},
   "outputs": [],
   "source": [
    "Troops = [\"Barbarian\", \"Archer\", \"Giant\", \"Goblin\", \"Wizard\", \"Dragon\", \"Ballon\", \"Hog rider\"]\n",
    "Levels = [1,2,3,4,5]\n",
    "Defences = [\"Cannon\", \"Archer tower\", \"Inferno tower\", \"Wizard tower\", \"Mortar\"]\n",
    "\n",
    "Cost = {(\"Barbarian\", 1): 1,\n",
    "        (\"Barbarian\", 2): 3,\n",
    "        (\"Barbarian\", 3): 5,\n",
    "        (\"Barbarian\", 4): 8,\n",
    "        (\"Barbarian\", 5): 12,\n",
    "        (\"Archer\", 1): 1,\n",
    "        (\"Archer\", 2): 3, \n",
    "        (\"Archer\", 3): 5,\n",
    "        (\"Archer\", 4): 8,\n",
    "        (\"Archer\", 5): 12,\n",
    "        (\"Giant\", 1): 5,\n",
    "        (\"Giant\", 2): 8,\n",
    "        (\"Giant\", 3): 16,\n",
    "        (\"Giant\", 4): 22,\n",
    "        (\"Giant\", 5): 32,\n",
    "        (\"Goblin\", 1): 1,\n",
    "        (\"Goblin\", 2): 2,\n",
    "        (\"Goblin\", 3): 3,\n",
    "        (\"Goblin\", 4): 4,\n",
    "        (\"Goblin\", 5): 5,\n",
    "        (\"Wizard\", 1): 4,\n",
    "        (\"Wizard\", 2): 7,\n",
    "        (\"Wizard\", 3): 12,\n",
    "        (\"Wizard\", 4): 19, \n",
    "        (\"Wizard\", 5): 25,\n",
    "        (\"Dragon\", 1): 10,\n",
    "        (\"Dragon\", 2): 15,\n",
    "        (\"Dragon\", 3): 22,\n",
    "        (\"Dragon\", 4): 30,\n",
    "        (\"Dragon\", 5): 40,\n",
    "        (\"Ballon\", 1): 5,\n",
    "        (\"Ballon\", 2): 9,\n",
    "        (\"Ballon\", 3): 18,\n",
    "        (\"Ballon\", 4): 24,\n",
    "        (\"Ballon\", 5): 32,\n",
    "        (\"Hog rider\", 1): 12,\n",
    "        (\"Hog rider\", 2): 16,\n",
    "        (\"Hog rider\", 3): 24,\n",
    "        (\"Hog rider\", 4): 36,\n",
    "        (\"Hog rider\", 5): 46}\n",
    "\n",
    "Size = {\"Barbarian\" : 3, \"Archer\" : 2, \"Giant\" : 15, \"Goblin\" : 1, \"Wizard\" : 3, \"Dragon\" : 20, \"Ballon\" : 10, \"Hog rider\" : 6}\n",
    "\n",
    "Eff =  {(\"Barbarian\", \"Cannon\"): 4,\n",
    "        (\"Barbarian\", \"Archer tower\"): 5,\n",
    "        (\"Barbarian\", \"Inferno tower\"): 4,\n",
    "        (\"Barbarian\", \"Wizard tower\"): 2,\n",
    "        (\"Barbarian\", \"Mortar\"): 3,\n",
    "        (\"Archer\", \"Cannon\"): 2,\n",
    "        (\"Archer\", \"Archer tower\"): 3, \n",
    "        (\"Archer\", \"Inferno tower\"): 3,\n",
    "        (\"Archer\", \"Wizard tower\"): 1,\n",
    "        (\"Archer\", \"Mortar\"): 1,\n",
    "        (\"Giant\", \"Cannon\"): 9,\n",
    "        (\"Giant\", \"Archer tower\"): 7,\n",
    "        (\"Giant\", \"Inferno tower\"): 2,\n",
    "        (\"Giant\", \"Wizard tower\"): 10,\n",
    "        (\"Giant\", \"Mortar\"): 8,\n",
    "        (\"Goblin\", \"Cannon\"): 1,\n",
    "        (\"Goblin\", \"Archer tower\"): 1,\n",
    "        (\"Goblin\", \"Inferno tower\"): 1,\n",
    "        (\"Goblin\", \"Wizard tower\"): 1,\n",
    "        (\"Goblin\", \"Mortar\"): 1,\n",
    "        (\"Wizard\", \"Cannon\"): 1,\n",
    "        (\"Wizard\", \"Archer tower\"): 4,\n",
    "        (\"Wizard\", \"Inferno tower\"): 3,\n",
    "        (\"Wizard\", \"Wizard tower\"): 2, \n",
    "        (\"Wizard\", \"Mortar\"): 1,\n",
    "        (\"Dragon\", \"Cannon\"): 10,\n",
    "        (\"Dragon\", \"Archer tower\"): 8,\n",
    "        (\"Dragon\", \"Inferno tower\"): 2,\n",
    "        (\"Dragon\", \"Wizard tower\"): 7,\n",
    "        (\"Dragon\", \"Mortar\"): 10,\n",
    "        (\"Ballon\", \"Cannon\"): 10,\n",
    "        (\"Ballon\", \"Archer tower\"): 3,\n",
    "        (\"Ballon\", \"Inferno tower\"): 4,\n",
    "        (\"Ballon\", \"Wizard tower\"): 6,\n",
    "        (\"Ballon\", \"Mortar\"): 10,\n",
    "        (\"Hog rider\", \"Cannon\"): 8,\n",
    "        (\"Hog rider\", \"Archer tower\"): 8,\n",
    "        (\"Hog rider\", \"Inferno tower\"): 9,\n",
    "        (\"Hog rider\", \"Wizard tower\"): 9,\n",
    "        (\"Hog rider\", \"Mortar\"): 10}"
   ]
  },
  {
   "cell_type": "markdown",
   "id": "f5ae53bb",
   "metadata": {},
   "source": [
    "### Exploratory data analysis\n",
    "\n",
    "We can make some plots to understand better the data"
   ]
  },
  {
   "cell_type": "code",
   "execution_count": 35,
   "id": "5ca2f097",
   "metadata": {},
   "outputs": [
    {
     "data": {
      "image/png": "[encoded data removed]",
      "text/plain": [
       "<Figure size 640x480 with 1 Axes>"
      ]
     },
     "metadata": {},
     "output_type": "display_data"
    }
   ],
   "source": [
    "for troop in Troops:\n",
    "    plt.plot(Levels, [Cost[(troop, level)] for level in Levels], label=troop)\n",
    "plt.xlabel('Level')\n",
    "plt.ylabel('Cost')\n",
    "plt.legend()\n",
    "plt.show()\n"
   ]
  },
  {
   "cell_type": "markdown",
   "id": "54bf3dac",
   "metadata": {},
   "source": [
    "We can see that except the goblins, for the rest of troop, their training cost increases exponentially with their level."
   ]
  },
  {
   "cell_type": "code",
   "execution_count": 36,
   "id": "8af5a1ee",
   "metadata": {},
   "outputs": [
    {
     "data": {
      "image/png": "[encoded data removed]",
      "text/plain": [
       "<Figure size 640x480 with 1 Axes>"
      ]
     },
     "metadata": {},
     "output_type": "display_data"
    }
   ],
   "source": [
    "plt.pie(Size.values(), labels=Size.keys(), autopct='%1.1f%%')\n",
    "plt.axis('equal')  \n",
    "plt.show()"
   ]
  },
  {
   "cell_type": "markdown",
   "id": "03513967",
   "metadata": {},
   "source": [
    "Here we can see the size of each troop compared to the sum of each troop size, and we can see that the dragon and the giant will fill a lot of the army size. Now I will compute the average effectiveness of each troop and divide it by their cost times their size and multiply the result by the level to obtain the effectiveness of a troop considering its level and its cost."
   ]
  },
  {
   "cell_type": "code",
   "execution_count": 37,
   "id": "3158f2fc",
   "metadata": {},
   "outputs": [
    {
     "name": "stdout",
     "output_type": "stream",
     "text": [
      "Barbarian \t level: 1 \t value: 1.20\n",
      "Barbarian \t level: 2 \t value: 1.60\n",
      "Barbarian \t level: 3 \t value: 2.16\n",
      "Barbarian \t level: 4 \t value: 2.40\n",
      "Barbarian \t level: 5 \t value: 2.50\n",
      "Archer \t level: 1 \t value: 1.00\n",
      "Archer \t level: 2 \t value: 1.33\n",
      "Archer \t level: 3 \t value: 1.80\n",
      "Archer \t level: 4 \t value: 2.00\n",
      "Archer \t level: 5 \t value: 2.08\n",
      "Giant \t level: 1 \t value: 0.10\n",
      "Giant \t level: 2 \t value: 0.24\n",
      "Giant \t level: 3 \t value: 0.27\n",
      "Giant \t level: 4 \t value: 0.35\n",
      "Giant \t level: 5 \t value: 0.38\n",
      "Goblin \t level: 1 \t value: 1.00\n",
      "Goblin \t level: 2 \t value: 2.00\n",
      "Goblin \t level: 3 \t value: 3.00\n",
      "Goblin \t level: 4 \t value: 4.00\n",
      "Goblin \t level: 5 \t value: 5.00\n",
      "Wizard \t level: 1 \t value: 0.18\n",
      "Wizard \t level: 2 \t value: 0.42\n",
      "Wizard \t level: 3 \t value: 0.55\n",
      "Wizard \t level: 4 \t value: 0.62\n",
      "Wizard \t level: 5 \t value: 0.73\n",
      "Dragon \t level: 1 \t value: 0.04\n",
      "Dragon \t level: 2 \t value: 0.10\n",
      "Dragon \t level: 3 \t value: 0.15\n",
      "Dragon \t level: 4 \t value: 0.20\n",
      "Dragon \t level: 5 \t value: 0.23\n",
      "Ballon \t level: 1 \t value: 0.13\n",
      "Ballon \t level: 2 \t value: 0.29\n",
      "Ballon \t level: 3 \t value: 0.33\n",
      "Ballon \t level: 4 \t value: 0.44\n",
      "Ballon \t level: 5 \t value: 0.52\n",
      "Hog rider \t level: 1 \t value: 0.12\n",
      "Hog rider \t level: 2 \t value: 0.37\n",
      "Hog rider \t level: 3 \t value: 0.55\n",
      "Hog rider \t level: 4 \t value: 0.65\n",
      "Hog rider \t level: 5 \t value: 0.80\n"
     ]
    }
   ],
   "source": [
    "from collections import defaultdict\n",
    "\n",
    "# Calculate the average effectiveness for each troop\n",
    "average_effectiveness = defaultdict(float)\n",
    "troop_counts = defaultdict(int)\n",
    "\n",
    "for (troop, defense), value in Eff.items():\n",
    "    \n",
    "    average_effectiveness[troop] += value\n",
    "    troop_counts[troop] += 1\n",
    "    \n",
    "for troop in average_effectiveness:\n",
    "    average_effectiveness[troop] /= troop_counts[troop] \n",
    "\n",
    "avg_level = defaultdict(float)\n",
    "for troop in average_effectiveness:\n",
    "    for level in Levels:\n",
    "        avg_level[troop, level] = average_effectiveness[troop] * level**2\n",
    "\n",
    "# Compute the effectiveness considering level and cost\n",
    "troop_effectiveness = defaultdict(float)\n",
    "\n",
    "for (troop,level), value in avg_level.items():\n",
    "    \n",
    "    key = (troop, level)\n",
    "    \n",
    "    if key in Cost:\n",
    "        troop_effectiveness[key] = (value) / (Cost[key]*Size[key[0]])\n",
    "for (troop, level), value in troop_effectiveness.items():\n",
    "    print(f\"{troop} \\t level: {level} \\t value: {value:.2f}\")"
   ]
  },
  {
   "cell_type": "markdown",
   "id": "6c15a961",
   "metadata": {},
   "source": [
    "We can see that the troops gives the highest effectiveness considering the cost and the size when they are in the level 5. This will make that the solution of the problem is an army of almost all troops of level 5 and maybe some of them of level 4 as in some cases the value of the level 4 and level 5 are very close. We can see that the goblins have the highest values among all the troops, because as when we are computing this value we are just considering one building of type for the average effectiveness, but in reality we will attack players with more defensive buildings so the goblins will not be as good as they seem to be now."
   ]
  },
  {
   "cell_type": "code",
   "execution_count": 38,
   "id": "2bcb9d84",
   "metadata": {},
   "outputs": [
    {
     "name": "stdout",
     "output_type": "stream",
     "text": [
      "Cannon value: 5.62\n",
      "Archer tower value: 4.88\n",
      "Inferno tower value: 3.50\n",
      "Wizard tower value: 4.75\n",
      "Mortar value: 5.50\n"
     ]
    }
   ],
   "source": [
    "defense_average = defaultdict(float)\n",
    "defense_counts = defaultdict(int)\n",
    "\n",
    "for (troop, defense), value in Eff.items():\n",
    "    defense_average[defense] += value\n",
    "    defense_counts[defense] += 1\n",
    "\n",
    "for defense in defense_average:\n",
    "    defense_average[defense] /= defense_counts[defense]\n",
    "\n",
    "\n",
    "for defense, value in defense_average.items():\n",
    "    print(f\"{defense} value: {value:.2f}\")\n"
   ]
  },
  {
   "cell_type": "markdown",
   "id": "bd4c80ae",
   "metadata": {},
   "source": [
    "Here we can see the average effectiveness for each building, where we can see that the cannon is the one that gives us more effectiveness. Despite this, our solution may not be attacking players with a lot of cannons as we have to use at least one troop of each type and there are some of them that are bad against cannons."
   ]
  },
  {
   "cell_type": "markdown",
   "id": "6cbfda43",
   "metadata": {},
   "source": [
    "### Model implementation\n",
    "\n",
    "Once the model is formulated we just need to implement it in pyomo. First, we have to create the model, set the indices and then add to the model the decision variables, the objective function and the constraints."
   ]
  },
  {
   "cell_type": "code",
   "execution_count": 39,
   "id": "95f6e917",
   "metadata": {},
   "outputs": [
    {
     "name": "stderr",
     "output_type": "stream",
     "text": [
      "C:\\Users\\dtori\\AppData\\Local\\Temp\\ipykernel_9660\\2047799485.py:15: DeprecationWarning: Calling np.sum(generator) is deprecated, and in the future will give a different result. Use np.sum(np.fromiter(generator)) or the python sum builtin instead.\n",
      "  return np.sum( model.x[i,k] * model.Eff[i,j] * k**2 * model.y[j] - model.Cost[i,k] * (model.x[i,k])**2 for i in model.I for j in model.J for k in model.K)\n",
      "C:\\Users\\dtori\\AppData\\Local\\Temp\\ipykernel_9660\\2047799485.py:20: DeprecationWarning: Calling np.sum(generator) is deprecated, and in the future will give a different result. Use np.sum(np.fromiter(generator)) or the python sum builtin instead.\n",
      "  return np.sum(model.Size[i] * model.x[i,k] for i in model.I for k in model.K) <= 100\n",
      "C:\\Users\\dtori\\AppData\\Local\\Temp\\ipykernel_9660\\2047799485.py:25: DeprecationWarning: Calling np.sum(generator) is deprecated, and in the future will give a different result. Use np.sum(np.fromiter(generator)) or the python sum builtin instead.\n",
      "  return np.sum(model.y[j] for j in model.J) == 12\n",
      "C:\\Users\\dtori\\AppData\\Local\\Temp\\ipykernel_9660\\2047799485.py:50: DeprecationWarning: Calling np.sum(generator) is deprecated, and in the future will give a different result. Use np.sum(np.fromiter(generator)) or the python sum builtin instead.\n",
      "  return np.sum(model.x[i,k] for k in model.K) >= 1\n"
     ]
    }
   ],
   "source": [
    "model = ConcreteModel(\"Non linear model\")\n",
    "model.I = Set(initialize = Troops, doc = \"Troops\")\n",
    "model.J = Set(initialize = Defences, doc = \"Defences\")\n",
    "model.K = Set(initialize = Levels, doc = 'Levels')\n",
    "\n",
    "model.Cost = Param(model.I, model.K, initialize = Cost, doc=\"Training costs\")\n",
    "model.Size = Param(model.I, initialize = Size, doc = \"Size of the troops\")\n",
    "model.Eff = Param(model.I, model.J, initialize = Eff, doc = \"Effectiveness of the troops\")\n",
    "\n",
    "model.x = Var(model.I, model.K, doc='Number of troops', within=NonNegativeIntegers)\n",
    "model.y = Var(model.J, doc='Number of defences', within=NonNegativeIntegers)\n",
    "\n",
    "def objective_rule(model):\n",
    "    \n",
    "    return np.sum( model.x[i,k] * model.Eff[i,j] * k**2 * model.y[j] - model.Cost[i,k] * (model.x[i,k])**2 for i in model.I for j in model.J for k in model.K)\n",
    "\n",
    "model.obj = Objective(rule=objective_rule, sense=maximize, doc='Total game rewards')\n",
    "\n",
    "def C1(model):\n",
    "    return np.sum(model.Size[i] * model.x[i,k] for i in model.I for k in model.K) <= 100\n",
    "\n",
    "model.C1 = Constraint(rule=C1, doc='C1')\n",
    "\n",
    "def C2(model):\n",
    "    return np.sum(model.y[j] for j in model.J) == 12\n",
    "\n",
    "model.C2 = Constraint(rule=C2, doc='C2')\n",
    "\n",
    "def C3(model):\n",
    "    return model.y[\"Cannon\"] >= 3\n",
    "model.C3 = Constraint(rule=C3, doc='C3')\n",
    "\n",
    "def C4(model):\n",
    "    return model.y[\"Archer tower\"] >= 3\n",
    "model.C4 = Constraint(rule=C4, doc='C4')\n",
    "\n",
    "def C5(model):\n",
    "    return model.y[\"Inferno tower\"] >= 2\n",
    "model.C5 = Constraint(rule=C5, doc='C5')\n",
    "\n",
    "def C6(model):\n",
    "    return model.y[\"Wizard tower\"] >= 1\n",
    "model.C6 = Constraint(rule=C6, doc='C6')\n",
    "\n",
    "def C7(model):\n",
    "    return model.y[\"Mortar\"] >= 1\n",
    "model.C7 = Constraint(rule=C7, doc='C7')\n",
    "\n",
    "def C8(model, i):\n",
    "    return np.sum(model.x[i,k] for k in model.K) >= 1\n",
    "\n",
    "model.C8 = Constraint(model.I, rule=C8, doc='C8')"
   ]
  },
  {
   "cell_type": "code",
   "execution_count": 40,
   "id": "3bde5962",
   "metadata": {},
   "outputs": [],
   "source": [
    "Solver = SolverFactory('gurobi')\n",
    "\n",
    "# Obtain the solution\n",
    "Results = Solver.solve(model)"
   ]
  },
  {
   "cell_type": "code",
   "execution_count": 41,
   "id": "fac918a3",
   "metadata": {},
   "outputs": [
    {
     "name": "stdout",
     "output_type": "stream",
     "text": [
      "obj : Size=1, Index=None, Active=True\n",
      "    Key  : Active : Value\n",
      "    None :   True : 21296.0\n"
     ]
    }
   ],
   "source": [
    "model.obj.display()"
   ]
  },
  {
   "cell_type": "markdown",
   "id": "9af7531c",
   "metadata": {},
   "source": [
    "We can obtain at maximum a game reward of 21296, but what we are really interested in is in the configuration of the army and of the defence configuration of the player we are attacking."
   ]
  },
  {
   "cell_type": "code",
   "execution_count": 42,
   "id": "a9371366",
   "metadata": {},
   "outputs": [
    {
     "name": "stdout",
     "output_type": "stream",
     "text": [
      "             1    2    3    4    5\n",
      "Barbarian  0.0  0.0  0.0  2.0  5.0\n",
      "Archer     0.0  0.0  0.0  0.0  3.0\n",
      "Giant      0.0  0.0  0.0  0.0  1.0\n",
      "Goblin     0.0  0.0  0.0  0.0  1.0\n",
      "Wizard     0.0  0.0  0.0  0.0  1.0\n",
      "Dragon     0.0  0.0  0.0  0.0  1.0\n",
      "Ballon     0.0  0.0  0.0  0.0  1.0\n",
      "Hog rider  0.0  0.0  0.0  1.0  3.0\n"
     ]
    }
   ],
   "source": [
    "troops = pd.DataFrame()\n",
    "\n",
    "for i in model.I:\n",
    "    for k in model.K:\n",
    "        if isinstance(model.x[i,k](), float):\n",
    "            troops.loc[i,k] = model.x[i,k]()\n",
    "        else:\n",
    "            troops.loc[i,k] = 0\n",
    "            \n",
    "print(troops)"
   ]
  },
  {
   "cell_type": "markdown",
   "id": "26a5054f",
   "metadata": {},
   "source": [
    "We can see that the best army configuration is:\n",
    "- 2 barbarian of level 4\n",
    "- 5 barbarian of level 5\n",
    "- 3 archer of level 5\n",
    "- 1 giant of level 5\n",
    "- 1 goblin of level 5\n",
    "- 1 wizard of level 5\n",
    "- 1 dragon of level 5\n",
    "- 1 ballon of level 5\n",
    "- 1 hog rider of level 4\n",
    "- 3 hog rider of level 5\n",
    "\n",
    "This configuration makes sense as we have seen before that the best troop considering effectiveness and the cost of training depending on the level is the barbarian, so that is why we have 5 barbarians of level 5. If we have only one unit of a type means that is trained because we need it for the constraint of having at least one troop of each type, but probably if we had not this constraint those units will not be trained and we will train more barbarians of level 5. \n",
    "\n",
    "We can also see that in the optimal solution the goblins were not as good as it was thought."
   ]
  },
  {
   "cell_type": "code",
   "execution_count": 43,
   "id": "07832a5d",
   "metadata": {},
   "outputs": [
    {
     "name": "stdout",
     "output_type": "stream",
     "text": [
      "y : Number of defences\n",
      "    Size=5, Index=J\n",
      "    Key           : Lower : Value : Upper : Fixed : Stale : Domain\n",
      "     Archer tower :     0 :   5.0 :  None : False : False : NonNegativeIntegers\n",
      "           Cannon :     0 :   3.0 :  None : False : False : NonNegativeIntegers\n",
      "    Inferno tower :     0 :   2.0 :  None : False : False : NonNegativeIntegers\n",
      "           Mortar :     0 :   1.0 :  None : False : False : NonNegativeIntegers\n",
      "     Wizard tower :     0 :   1.0 :  None : False : False : NonNegativeIntegers\n"
     ]
    }
   ],
   "source": [
    "model.y.display()"
   ]
  },
  {
   "cell_type": "markdown",
   "id": "291a8267",
   "metadata": {},
   "source": [
    "The best defense configuration we can attack is the one with 5 archer towers, 3 cannons, 2 inferno tower, 1 mortar, and 1 wizard tower."
   ]
  },
  {
   "cell_type": "markdown",
   "id": "388a8f80",
   "metadata": {},
   "source": [
    "We have obtained the best army configuration against a defence configuration that is able to maximize our game rewards, and taking care about the fact that the game penalized a lot the size of our army as it is squared."
   ]
  },
  {
   "cell_type": "markdown",
   "id": "0856a745",
   "metadata": {},
   "source": [
    "## Final conclusions\n",
    "\n",
    "In the first part of the project I had to solve a Vehicle Rooting Problem with capacities. When I chose this problem, I thought it was similar to the Travelling Salesman Problem but with a number of salesmans, but once I started defining the model I realised that it has a lot of differences. This was because the warehouse node needed different constraints, as it is not visited only once, and also that as there are 3 vans the problem change as each van do not need to visit all the client nodes. I had also to modify the MTZ (Miller-Tucker-Zemlin) set of constraints to avoid subtours. I also had problems at the begining as I was not considering that if the sum of the capacities of the van was not higher than the sum of all the demands the problem was not feasible. At the end I have obtained a good result, that once I draw the graph seems to be correct.\n",
    "\n",
    "For the second part of the project I tried to make a problem that was original and that the fact that the objective function was non linear made sense. The only problem I had in this part was that gurobi is not able to solve problems of degree higher than 2 because their solution region can be concave. The result of this problem was easy to interpret. \n"
   ]
  }
 ],
 "metadata": {
  "kernelspec": {
   "display_name": "Python 3 (ipykernel)",
   "language": "python",
   "name": "python3"
  },
  "language_info": {
   "codemirror_mode": {
    "name": "ipython",
    "version": 3
   },
   "file_extension": ".py",
   "mimetype": "text/x-python",
   "name": "python",
   "nbconvert_exporter": "python",
   "pygments_lexer": "ipython3",
   "version": "3.11.4"
  }
 },
 "nbformat": 4,
 "nbformat_minor": 5
}
